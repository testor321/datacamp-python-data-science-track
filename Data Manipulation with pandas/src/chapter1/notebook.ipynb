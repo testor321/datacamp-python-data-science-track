{
 "metadata": {
  "colab": {
   "name": "Welcome to DataCamp Workspaces.ipynb",
   "provenance": []
  },
  "kernelspec": {
   "display_name": "Python 3 (ipykernel)",
   "language": "python",
   "name": "python3"
  },
  "language_info": {
   "name": "python",
   "version": "3.8.10",
   "mimetype": "text/x-python",
   "codemirror_mode": {
    "name": "ipython",
    "version": 3
   },
   "pygments_lexer": "ipython3",
   "nbconvert_exporter": "python",
   "file_extension": ".py"
  },
  "varInspector": {
   "cols": {
    "lenName": 16,
    "lenType": 16,
    "lenVar": 40
   },
   "kernels_config": {
    "python": {
     "delete_cmd_postfix": "",
     "delete_cmd_prefix": "del ",
     "library": "var_list.py",
     "varRefreshCmd": "print(var_dic_list())"
    },
    "r": {
     "delete_cmd_postfix": ") ",
     "delete_cmd_prefix": "rm(",
     "library": "var_list.r",
     "varRefreshCmd": "cat(var_dic_list()) "
    }
   },
   "types_to_exclude": [
    "module",
    "function",
    "builtin_function_or_method",
    "instance",
    "_Feature"
   ],
   "window_display": false
  },
  "editor": "DataCamp Workspace"
 },
 "nbformat_minor": 5,
 "nbformat": 4,
 "cells": [
  {
   "cell_type": "markdown",
   "source": [
    "# Data Manipulation with pandas\n",
    "\n",
    "👋 Welcome to your new **workspace**! Here, you can experiment with the data you used in [Data Manipulation with pandas](https://app.datacamp.com/learn/courses/data-manipulation-with-pandas) and practice your newly learned skills with some challenges. You can find out more about DataCamp Workspace [here](https://workspace-docs.datacamp.com/).\n",
    "\n",
    "On average, we expect users to take approximately **30 minutes** to complete the content in this workspace. However, you are free to experiment and practice in it as long as you would like!"
   ],
   "metadata": {
    "id": "bA5ajAmk7XH6",
    "pycharm": {
     "name": "#%% md\n"
    }
   },
   "id": "prostate-arizona"
  },
  {
   "cell_type": "markdown",
   "source": [
    "## 1. Get Started\n",
    "Below is a code cell. It is used to execute Python code. The code below imports three packages you used in Data Manipulation with pandas: pandas, NumPy, and Matplotlib. The code also imports data you used in the course as DataFrames using the pandas [`read_csv()`](https://pandas.pydata.org/docs/reference/api/pandas.read_csv.html) function.\n",
    "\n",
    "🏃**To execute the code, click inside the cell to select it and click \"Run\" or the ► icon. You can also use Shift-Enter to run a selected cell.**"
   ],
   "metadata": {
    "pycharm": {
     "name": "#%% md\n"
    }
   },
   "id": "c1c12180"
  },
  {
   "cell_type": "code",
   "source": [
    "# Import the course packages\n",
    "import pandas as pd\n",
    "import numpy as np\n",
    "import matplotlib.pyplot as plt\n",
    "\n",
    "# Import the four datasets\n",
    "avocado = pd.read_csv(\"../../Datasets/avocado.csv\")\n",
    "homelessness = pd.read_csv(\"../../Datasets/homelessness.csv\")\n",
    "temperatures = pd.read_csv(\"../../Datasets/temperatures.csv\")\n",
    "walmart = pd.read_csv(\"../../Datasets/walmart.csv\")\n",
    "\n",
    "# Print the first DataFrame\n",
    "avocado"
   ],
   "metadata": {
    "scrolled": true,
    "pycharm": {
     "name": "#%%\n"
    }
   },
   "execution_count": 5,
   "outputs": [
    {
     "data": {
      "text/plain": "       Unnamed: 0        Date  AveragePrice  Total Volume     4046       4225  \\\n0               0  2015-12-27          1.33      64236.62  1036.74   54454.85   \n1               1  2015-12-20          1.35      54876.98   674.28   44638.81   \n2               2  2015-12-13          0.93     118220.22   794.70  109149.67   \n3               3  2015-12-06          1.08      78992.15  1132.00   71976.41   \n4               4  2015-11-29          1.28      51039.60   941.48   43838.39   \n...           ...         ...           ...           ...      ...        ...   \n18244           7  2018-02-04          1.63      17074.83  2046.96    1529.20   \n18245           8  2018-01-28          1.71      13888.04  1191.70    3431.50   \n18246           9  2018-01-21          1.87      13766.76  1191.92    2452.79   \n18247          10  2018-01-14          1.93      16205.22  1527.63    2981.04   \n18248          11  2018-01-07          1.62      17489.58  2894.77    2356.13   \n\n         4770  Total Bags  Small Bags  Large Bags  XLarge Bags          type  \\\n0       48.16     8696.87     8603.62       93.25          0.0  conventional   \n1       58.33     9505.56     9408.07       97.49          0.0  conventional   \n2      130.50     8145.35     8042.21      103.14          0.0  conventional   \n3       72.58     5811.16     5677.40      133.76          0.0  conventional   \n4       75.78     6183.95     5986.26      197.69          0.0  conventional   \n...       ...         ...         ...         ...          ...           ...   \n18244    0.00    13498.67    13066.82      431.85          0.0       organic   \n18245    0.00     9264.84     8940.04      324.80          0.0       organic   \n18246  727.94     9394.11     9351.80       42.31          0.0       organic   \n18247  727.01    10969.54    10919.54       50.00          0.0       organic   \n18248  224.53    12014.15    11988.14       26.01          0.0       organic   \n\n       year            region  \n0      2015            Albany  \n1      2015            Albany  \n2      2015            Albany  \n3      2015            Albany  \n4      2015            Albany  \n...     ...               ...  \n18244  2018  WestTexNewMexico  \n18245  2018  WestTexNewMexico  \n18246  2018  WestTexNewMexico  \n18247  2018  WestTexNewMexico  \n18248  2018  WestTexNewMexico  \n\n[18249 rows x 14 columns]",
      "text/html": "<div>\n<style scoped>\n    .dataframe tbody tr th:only-of-type {\n        vertical-align: middle;\n    }\n\n    .dataframe tbody tr th {\n        vertical-align: top;\n    }\n\n    .dataframe thead th {\n        text-align: right;\n    }\n</style>\n<table border=\"1\" class=\"dataframe\">\n  <thead>\n    <tr style=\"text-align: right;\">\n      <th></th>\n      <th>Unnamed: 0</th>\n      <th>Date</th>\n      <th>AveragePrice</th>\n      <th>Total Volume</th>\n      <th>4046</th>\n      <th>4225</th>\n      <th>4770</th>\n      <th>Total Bags</th>\n      <th>Small Bags</th>\n      <th>Large Bags</th>\n      <th>XLarge Bags</th>\n      <th>type</th>\n      <th>year</th>\n      <th>region</th>\n    </tr>\n  </thead>\n  <tbody>\n    <tr>\n      <th>0</th>\n      <td>0</td>\n      <td>2015-12-27</td>\n      <td>1.33</td>\n      <td>64236.62</td>\n      <td>1036.74</td>\n      <td>54454.85</td>\n      <td>48.16</td>\n      <td>8696.87</td>\n      <td>8603.62</td>\n      <td>93.25</td>\n      <td>0.0</td>\n      <td>conventional</td>\n      <td>2015</td>\n      <td>Albany</td>\n    </tr>\n    <tr>\n      <th>1</th>\n      <td>1</td>\n      <td>2015-12-20</td>\n      <td>1.35</td>\n      <td>54876.98</td>\n      <td>674.28</td>\n      <td>44638.81</td>\n      <td>58.33</td>\n      <td>9505.56</td>\n      <td>9408.07</td>\n      <td>97.49</td>\n      <td>0.0</td>\n      <td>conventional</td>\n      <td>2015</td>\n      <td>Albany</td>\n    </tr>\n    <tr>\n      <th>2</th>\n      <td>2</td>\n      <td>2015-12-13</td>\n      <td>0.93</td>\n      <td>118220.22</td>\n      <td>794.70</td>\n      <td>109149.67</td>\n      <td>130.50</td>\n      <td>8145.35</td>\n      <td>8042.21</td>\n      <td>103.14</td>\n      <td>0.0</td>\n      <td>conventional</td>\n      <td>2015</td>\n      <td>Albany</td>\n    </tr>\n    <tr>\n      <th>3</th>\n      <td>3</td>\n      <td>2015-12-06</td>\n      <td>1.08</td>\n      <td>78992.15</td>\n      <td>1132.00</td>\n      <td>71976.41</td>\n      <td>72.58</td>\n      <td>5811.16</td>\n      <td>5677.40</td>\n      <td>133.76</td>\n      <td>0.0</td>\n      <td>conventional</td>\n      <td>2015</td>\n      <td>Albany</td>\n    </tr>\n    <tr>\n      <th>4</th>\n      <td>4</td>\n      <td>2015-11-29</td>\n      <td>1.28</td>\n      <td>51039.60</td>\n      <td>941.48</td>\n      <td>43838.39</td>\n      <td>75.78</td>\n      <td>6183.95</td>\n      <td>5986.26</td>\n      <td>197.69</td>\n      <td>0.0</td>\n      <td>conventional</td>\n      <td>2015</td>\n      <td>Albany</td>\n    </tr>\n    <tr>\n      <th>...</th>\n      <td>...</td>\n      <td>...</td>\n      <td>...</td>\n      <td>...</td>\n      <td>...</td>\n      <td>...</td>\n      <td>...</td>\n      <td>...</td>\n      <td>...</td>\n      <td>...</td>\n      <td>...</td>\n      <td>...</td>\n      <td>...</td>\n      <td>...</td>\n    </tr>\n    <tr>\n      <th>18244</th>\n      <td>7</td>\n      <td>2018-02-04</td>\n      <td>1.63</td>\n      <td>17074.83</td>\n      <td>2046.96</td>\n      <td>1529.20</td>\n      <td>0.00</td>\n      <td>13498.67</td>\n      <td>13066.82</td>\n      <td>431.85</td>\n      <td>0.0</td>\n      <td>organic</td>\n      <td>2018</td>\n      <td>WestTexNewMexico</td>\n    </tr>\n    <tr>\n      <th>18245</th>\n      <td>8</td>\n      <td>2018-01-28</td>\n      <td>1.71</td>\n      <td>13888.04</td>\n      <td>1191.70</td>\n      <td>3431.50</td>\n      <td>0.00</td>\n      <td>9264.84</td>\n      <td>8940.04</td>\n      <td>324.80</td>\n      <td>0.0</td>\n      <td>organic</td>\n      <td>2018</td>\n      <td>WestTexNewMexico</td>\n    </tr>\n    <tr>\n      <th>18246</th>\n      <td>9</td>\n      <td>2018-01-21</td>\n      <td>1.87</td>\n      <td>13766.76</td>\n      <td>1191.92</td>\n      <td>2452.79</td>\n      <td>727.94</td>\n      <td>9394.11</td>\n      <td>9351.80</td>\n      <td>42.31</td>\n      <td>0.0</td>\n      <td>organic</td>\n      <td>2018</td>\n      <td>WestTexNewMexico</td>\n    </tr>\n    <tr>\n      <th>18247</th>\n      <td>10</td>\n      <td>2018-01-14</td>\n      <td>1.93</td>\n      <td>16205.22</td>\n      <td>1527.63</td>\n      <td>2981.04</td>\n      <td>727.01</td>\n      <td>10969.54</td>\n      <td>10919.54</td>\n      <td>50.00</td>\n      <td>0.0</td>\n      <td>organic</td>\n      <td>2018</td>\n      <td>WestTexNewMexico</td>\n    </tr>\n    <tr>\n      <th>18248</th>\n      <td>11</td>\n      <td>2018-01-07</td>\n      <td>1.62</td>\n      <td>17489.58</td>\n      <td>2894.77</td>\n      <td>2356.13</td>\n      <td>224.53</td>\n      <td>12014.15</td>\n      <td>11988.14</td>\n      <td>26.01</td>\n      <td>0.0</td>\n      <td>organic</td>\n      <td>2018</td>\n      <td>WestTexNewMexico</td>\n    </tr>\n  </tbody>\n</table>\n<p>18249 rows × 14 columns</p>\n</div>"
     },
     "execution_count": 5,
     "metadata": {},
     "output_type": "execute_result"
    }
   ],
   "id": "2e25fdd8-4d84-45bc-80f0-949917e00a17"
  },
  {
   "cell_type": "markdown",
   "source": [
    "## 2. Write Code\n",
    "After running the cell above, you have created four pandas DataFrames: `avocado`, `homelessness`, `temperatures`, and `walmart`. \n",
    "\n",
    "**Add code** to the code cells below to try one (or more) of the following challenges:\n",
    "\n",
    "1. Print the highest weekly sales for each `department` in the `walmart` DataFrame. Limit your results to the top five departments, in descending order. If you're stuck, try reviewing this [video](https://campus.datacamp.com/courses/data-manipulation-with-pandas/aggregating-dataframes?ex=1).\n",
    "2. What was the total `nb_sold` of organic avocados in 2017 in the `avocado` DataFrame? If you're stuck, try reviewing this [video](https://campus.datacamp.com/courses/data-manipulation-with-pandas/slicing-and-indexing-dataframes?ex=6).\n",
    "3. Create a bar plot of the total number of homeless people by region in the `homelessness` DataFrame. Order the bars in descending order. Bonus: create a horizontal bar chart. If you're stuck, try reviewing this [video](https://campus.datacamp.com/courses/data-manipulation-with-pandas/creating-and-visualizing-dataframes?ex=1).\n",
    "4. Create a line plot with two lines representing the temperatures in Toronto and Rome. Make sure to properly label your plot. Bonus: add a legend for the two lines. If you're stuck, try reviewing this [video](https://campus.datacamp.com/courses/data-manipulation-with-pandas/creating-and-visualizing-dataframes?ex=1).\n",
    "\n",
    "Be sure to check out the **Answer Key** at the end to see one way to solve each problem. Did you try something similar?\n",
    "\n",
    "**Reminder: To execute the code you add to a cell, click inside the cell to select it and click \"Run\" or the ► icon. You can also use Shift-Enter to run a selected cell.**"
   ],
   "metadata": {
    "pycharm": {
     "name": "#%% md\n"
    }
   },
   "id": "c09c5c3a"
  },
  {
   "cell_type": "code",
   "source": [
    "# 1. Print the highest weekly sales for each department\n",
    "department_sales = walmart.groupby(\"department\")[[\"weekly_sales\"]].max()\n",
    "best_departments = department_sales.sort_values(by=\"weekly_sales\", ascending=False)\n",
    "best_departments.head()"
   ],
   "metadata": {
    "pycharm": {
     "name": "#%%\n"
    }
   },
   "execution_count": 7,
   "outputs": [
    {
     "ename": "KeyError",
     "evalue": "'department'",
     "output_type": "error",
     "traceback": [
      "\u001B[1;31m---------------------------------------------------------------------------\u001B[0m",
      "\u001B[1;31mKeyError\u001B[0m                                  Traceback (most recent call last)",
      "Input \u001B[1;32mIn [7]\u001B[0m, in \u001B[0;36m<cell line: 2>\u001B[1;34m()\u001B[0m\n\u001B[0;32m      1\u001B[0m \u001B[38;5;66;03m# 1. Print the highest weekly sales for each department\u001B[39;00m\n\u001B[1;32m----> 2\u001B[0m department_sales \u001B[38;5;241m=\u001B[39m \u001B[43mwalmart\u001B[49m\u001B[38;5;241;43m.\u001B[39;49m\u001B[43mgroupby\u001B[49m\u001B[43m(\u001B[49m\u001B[38;5;124;43m\"\u001B[39;49m\u001B[38;5;124;43mdepartment\u001B[39;49m\u001B[38;5;124;43m\"\u001B[39;49m\u001B[43m)\u001B[49m[[\u001B[38;5;124m\"\u001B[39m\u001B[38;5;124mweekly_sales\u001B[39m\u001B[38;5;124m\"\u001B[39m]]\u001B[38;5;241m.\u001B[39mmax()\n\u001B[0;32m      3\u001B[0m best_departments \u001B[38;5;241m=\u001B[39m department_sales\u001B[38;5;241m.\u001B[39msort_values(by\u001B[38;5;241m=\u001B[39m\u001B[38;5;124m\"\u001B[39m\u001B[38;5;124mweekly_sales\u001B[39m\u001B[38;5;124m\"\u001B[39m, ascending\u001B[38;5;241m=\u001B[39m\u001B[38;5;28;01mFalse\u001B[39;00m)\n\u001B[0;32m      4\u001B[0m best_departments\u001B[38;5;241m.\u001B[39mhead()\n",
      "File \u001B[1;32mG:\\My Drive\\education\\python\\datacamp\\datacamp-python-data-science-track\\Data Manipulation with pandas\\venv\\lib\\site-packages\\pandas\\core\\frame.py:7718\u001B[0m, in \u001B[0;36mDataFrame.groupby\u001B[1;34m(self, by, axis, level, as_index, sort, group_keys, squeeze, observed, dropna)\u001B[0m\n\u001B[0;32m   7713\u001B[0m axis \u001B[38;5;241m=\u001B[39m \u001B[38;5;28mself\u001B[39m\u001B[38;5;241m.\u001B[39m_get_axis_number(axis)\n\u001B[0;32m   7715\u001B[0m \u001B[38;5;66;03m# https://github.com/python/mypy/issues/7642\u001B[39;00m\n\u001B[0;32m   7716\u001B[0m \u001B[38;5;66;03m# error: Argument \"squeeze\" to \"DataFrameGroupBy\" has incompatible type\u001B[39;00m\n\u001B[0;32m   7717\u001B[0m \u001B[38;5;66;03m# \"Union[bool, NoDefault]\"; expected \"bool\"\u001B[39;00m\n\u001B[1;32m-> 7718\u001B[0m \u001B[38;5;28;01mreturn\u001B[39;00m \u001B[43mDataFrameGroupBy\u001B[49m\u001B[43m(\u001B[49m\n\u001B[0;32m   7719\u001B[0m \u001B[43m    \u001B[49m\u001B[43mobj\u001B[49m\u001B[38;5;241;43m=\u001B[39;49m\u001B[38;5;28;43mself\u001B[39;49m\u001B[43m,\u001B[49m\n\u001B[0;32m   7720\u001B[0m \u001B[43m    \u001B[49m\u001B[43mkeys\u001B[49m\u001B[38;5;241;43m=\u001B[39;49m\u001B[43mby\u001B[49m\u001B[43m,\u001B[49m\n\u001B[0;32m   7721\u001B[0m \u001B[43m    \u001B[49m\u001B[43maxis\u001B[49m\u001B[38;5;241;43m=\u001B[39;49m\u001B[43maxis\u001B[49m\u001B[43m,\u001B[49m\n\u001B[0;32m   7722\u001B[0m \u001B[43m    \u001B[49m\u001B[43mlevel\u001B[49m\u001B[38;5;241;43m=\u001B[39;49m\u001B[43mlevel\u001B[49m\u001B[43m,\u001B[49m\n\u001B[0;32m   7723\u001B[0m \u001B[43m    \u001B[49m\u001B[43mas_index\u001B[49m\u001B[38;5;241;43m=\u001B[39;49m\u001B[43mas_index\u001B[49m\u001B[43m,\u001B[49m\n\u001B[0;32m   7724\u001B[0m \u001B[43m    \u001B[49m\u001B[43msort\u001B[49m\u001B[38;5;241;43m=\u001B[39;49m\u001B[43msort\u001B[49m\u001B[43m,\u001B[49m\n\u001B[0;32m   7725\u001B[0m \u001B[43m    \u001B[49m\u001B[43mgroup_keys\u001B[49m\u001B[38;5;241;43m=\u001B[39;49m\u001B[43mgroup_keys\u001B[49m\u001B[43m,\u001B[49m\n\u001B[0;32m   7726\u001B[0m \u001B[43m    \u001B[49m\u001B[43msqueeze\u001B[49m\u001B[38;5;241;43m=\u001B[39;49m\u001B[43msqueeze\u001B[49m\u001B[43m,\u001B[49m\u001B[43m  \u001B[49m\u001B[38;5;66;43;03m# type: ignore[arg-type]\u001B[39;49;00m\n\u001B[0;32m   7727\u001B[0m \u001B[43m    \u001B[49m\u001B[43mobserved\u001B[49m\u001B[38;5;241;43m=\u001B[39;49m\u001B[43mobserved\u001B[49m\u001B[43m,\u001B[49m\n\u001B[0;32m   7728\u001B[0m \u001B[43m    \u001B[49m\u001B[43mdropna\u001B[49m\u001B[38;5;241;43m=\u001B[39;49m\u001B[43mdropna\u001B[49m\u001B[43m,\u001B[49m\n\u001B[0;32m   7729\u001B[0m \u001B[43m\u001B[49m\u001B[43m)\u001B[49m\n",
      "File \u001B[1;32mG:\\My Drive\\education\\python\\datacamp\\datacamp-python-data-science-track\\Data Manipulation with pandas\\venv\\lib\\site-packages\\pandas\\core\\groupby\\groupby.py:882\u001B[0m, in \u001B[0;36mGroupBy.__init__\u001B[1;34m(self, obj, keys, axis, level, grouper, exclusions, selection, as_index, sort, group_keys, squeeze, observed, mutated, dropna)\u001B[0m\n\u001B[0;32m    879\u001B[0m \u001B[38;5;28;01mif\u001B[39;00m grouper \u001B[38;5;129;01mis\u001B[39;00m \u001B[38;5;28;01mNone\u001B[39;00m:\n\u001B[0;32m    880\u001B[0m     \u001B[38;5;28;01mfrom\u001B[39;00m \u001B[38;5;21;01mpandas\u001B[39;00m\u001B[38;5;21;01m.\u001B[39;00m\u001B[38;5;21;01mcore\u001B[39;00m\u001B[38;5;21;01m.\u001B[39;00m\u001B[38;5;21;01mgroupby\u001B[39;00m\u001B[38;5;21;01m.\u001B[39;00m\u001B[38;5;21;01mgrouper\u001B[39;00m \u001B[38;5;28;01mimport\u001B[39;00m get_grouper\n\u001B[1;32m--> 882\u001B[0m     grouper, exclusions, obj \u001B[38;5;241m=\u001B[39m \u001B[43mget_grouper\u001B[49m\u001B[43m(\u001B[49m\n\u001B[0;32m    883\u001B[0m \u001B[43m        \u001B[49m\u001B[43mobj\u001B[49m\u001B[43m,\u001B[49m\n\u001B[0;32m    884\u001B[0m \u001B[43m        \u001B[49m\u001B[43mkeys\u001B[49m\u001B[43m,\u001B[49m\n\u001B[0;32m    885\u001B[0m \u001B[43m        \u001B[49m\u001B[43maxis\u001B[49m\u001B[38;5;241;43m=\u001B[39;49m\u001B[43maxis\u001B[49m\u001B[43m,\u001B[49m\n\u001B[0;32m    886\u001B[0m \u001B[43m        \u001B[49m\u001B[43mlevel\u001B[49m\u001B[38;5;241;43m=\u001B[39;49m\u001B[43mlevel\u001B[49m\u001B[43m,\u001B[49m\n\u001B[0;32m    887\u001B[0m \u001B[43m        \u001B[49m\u001B[43msort\u001B[49m\u001B[38;5;241;43m=\u001B[39;49m\u001B[43msort\u001B[49m\u001B[43m,\u001B[49m\n\u001B[0;32m    888\u001B[0m \u001B[43m        \u001B[49m\u001B[43mobserved\u001B[49m\u001B[38;5;241;43m=\u001B[39;49m\u001B[43mobserved\u001B[49m\u001B[43m,\u001B[49m\n\u001B[0;32m    889\u001B[0m \u001B[43m        \u001B[49m\u001B[43mmutated\u001B[49m\u001B[38;5;241;43m=\u001B[39;49m\u001B[38;5;28;43mself\u001B[39;49m\u001B[38;5;241;43m.\u001B[39;49m\u001B[43mmutated\u001B[49m\u001B[43m,\u001B[49m\n\u001B[0;32m    890\u001B[0m \u001B[43m        \u001B[49m\u001B[43mdropna\u001B[49m\u001B[38;5;241;43m=\u001B[39;49m\u001B[38;5;28;43mself\u001B[39;49m\u001B[38;5;241;43m.\u001B[39;49m\u001B[43mdropna\u001B[49m\u001B[43m,\u001B[49m\n\u001B[0;32m    891\u001B[0m \u001B[43m    \u001B[49m\u001B[43m)\u001B[49m\n\u001B[0;32m    893\u001B[0m \u001B[38;5;28mself\u001B[39m\u001B[38;5;241m.\u001B[39mobj \u001B[38;5;241m=\u001B[39m obj\n\u001B[0;32m    894\u001B[0m \u001B[38;5;28mself\u001B[39m\u001B[38;5;241m.\u001B[39maxis \u001B[38;5;241m=\u001B[39m obj\u001B[38;5;241m.\u001B[39m_get_axis_number(axis)\n",
      "File \u001B[1;32mG:\\My Drive\\education\\python\\datacamp\\datacamp-python-data-science-track\\Data Manipulation with pandas\\venv\\lib\\site-packages\\pandas\\core\\groupby\\grouper.py:882\u001B[0m, in \u001B[0;36mget_grouper\u001B[1;34m(obj, key, axis, level, sort, observed, mutated, validate, dropna)\u001B[0m\n\u001B[0;32m    880\u001B[0m         in_axis, level, gpr \u001B[38;5;241m=\u001B[39m \u001B[38;5;28;01mFalse\u001B[39;00m, gpr, \u001B[38;5;28;01mNone\u001B[39;00m\n\u001B[0;32m    881\u001B[0m     \u001B[38;5;28;01melse\u001B[39;00m:\n\u001B[1;32m--> 882\u001B[0m         \u001B[38;5;28;01mraise\u001B[39;00m \u001B[38;5;167;01mKeyError\u001B[39;00m(gpr)\n\u001B[0;32m    883\u001B[0m \u001B[38;5;28;01melif\u001B[39;00m \u001B[38;5;28misinstance\u001B[39m(gpr, Grouper) \u001B[38;5;129;01mand\u001B[39;00m gpr\u001B[38;5;241m.\u001B[39mkey \u001B[38;5;129;01mis\u001B[39;00m \u001B[38;5;129;01mnot\u001B[39;00m \u001B[38;5;28;01mNone\u001B[39;00m:\n\u001B[0;32m    884\u001B[0m     \u001B[38;5;66;03m# Add key to exclusions\u001B[39;00m\n\u001B[0;32m    885\u001B[0m     exclusions\u001B[38;5;241m.\u001B[39madd(gpr\u001B[38;5;241m.\u001B[39mkey)\n",
      "\u001B[1;31mKeyError\u001B[0m: 'department'"
     ]
    }
   ],
   "id": "10176b86"
  },
  {
   "cell_type": "code",
   "source": [
    "# 2. What was the total `nb_sold` of organic avocados in 2017?\n",
    "avocado_2017 = avocado.set_index(\"date\").sort_index().loc[\"2017\":\"2018\"]\n",
    "avocado_organic_2017 = avocado_2017.loc[(avocado_2017[\"type\"] == \"organic\")]\n",
    "avocado_organic_2017[\"nb_sold\"].sum()"
   ],
   "metadata": {
    "pycharm": {
     "name": "#%%\n"
    }
   },
   "execution_count": null,
   "outputs": [],
   "id": "broadband-stability"
  },
  {
   "cell_type": "code",
   "source": [
    "# 3. Create a bar plot of the number of homeless people by region\n",
    "homelessness_by_region = (\n",
    "    homelessness.groupby(\"region\")[\"individuals\"].sum().sort_values()\n",
    ")\n",
    "homelessness_by_region.plot(kind=\"barh\")\n",
    "plt.title(\"Total Number of Homeless People by Region\")\n",
    "plt.xlabel(\"Number\")\n",
    "plt.ylabel(\"Region\")\n",
    "plt.show()"
   ],
   "metadata": {
    "pycharm": {
     "name": "#%%\n"
    }
   },
   "execution_count": null,
   "outputs": [],
   "id": "instant-potential"
  },
  {
   "cell_type": "code",
   "source": [
    "# 4. Create a line plot of temperatures in Toronto and Rome\n",
    "toronto = temperatures[temperatures.city == \"Toronto\"]\n",
    "rome = temperatures[temperatures.city == \"Rome\"]\n",
    "toronto.groupby(\"date\")[\"avg_temp_c\"].mean().plot(kind=\"line\", color=\"blue\")\n",
    "rome.groupby(\"date\")[\"avg_temp_c\"].mean().plot(kind=\"line\", color=\"red\")\n",
    "plt.title(\"Toronto and Rome Average Temperature (C)\")\n",
    "plt.xlabel(\"Date\")\n",
    "plt.ylabel(\"Temperature\")\n",
    "plt.legend(labels=[\"Toronto\", \"Rome\"])\n",
    "plt.show()"
   ],
   "metadata": {
    "pycharm": {
     "name": "#%%\n"
    }
   },
   "execution_count": null,
   "outputs": [],
   "id": "decimal-raise"
  },
  {
   "cell_type": "markdown",
   "source": [
    "## 3. Next Steps\n",
    "Feeling confident about your skills? Continue on to [Joining Data with pandas](https://app.datacamp.com/learn/courses/joining-data-with-pandas)! This course will teach you how to combine multiple datasets, an essential skill on the road to becoming a data scientist!"
   ],
   "metadata": {
    "pycharm": {
     "name": "#%% md\n"
    }
   },
   "id": "798990da"
  },
  {
   "cell_type": "markdown",
   "source": [
    "## 4. Answer Key\n",
    "Below are potential solutions to the challenges shown above. Try them out and see how they compare to how you approached the problem!"
   ],
   "metadata": {
    "pycharm": {
     "name": "#%% md\n"
    }
   },
   "id": "7f71ac0e"
  },
  {
   "cell_type": "code",
   "source": [
    "# 1. Print the highest weekly sales for each department\n",
    "department_sales = walmart.groupby(\"department\")[[\"weekly_sales\"]].max()\n",
    "best_departments = department_sales.sort_values(by=\"weekly_sales\", ascending=False)\n",
    "best_departments.head()"
   ],
   "metadata": {
    "pycharm": {
     "name": "#%%\n"
    }
   },
   "execution_count": null,
   "outputs": [],
   "id": "drawn-discharge"
  },
  {
   "cell_type": "code",
   "source": [
    "# 2. What was the total `nb_sold` of organic avocados in 2017?\n",
    "avocado_2017 = avocado.set_index(\"date\").sort_index().loc[\"2017\":\"2018\"]\n",
    "avocado_organic_2017 = avocado_2017.loc[(avocado_2017[\"type\"] == \"organic\")]\n",
    "avocado_organic_2017[\"nb_sold\"].sum()"
   ],
   "metadata": {
    "pycharm": {
     "name": "#%%\n"
    }
   },
   "execution_count": null,
   "outputs": [],
   "id": "fitting-allen"
  },
  {
   "cell_type": "code",
   "source": [
    "# 3. Create a bar plot of the number of homeless people by region\n",
    "homelessness_by_region = (\n",
    "    homelessness.groupby(\"region\")[\"individuals\"].sum().sort_values()\n",
    ")\n",
    "homelessness_by_region.plot(kind=\"barh\")\n",
    "plt.title(\"Total Number of Homeless People by Region\")\n",
    "plt.xlabel(\"Number\")\n",
    "plt.ylabel(\"Region\")\n",
    "plt.show()"
   ],
   "metadata": {
    "pycharm": {
     "name": "#%%\n"
    }
   },
   "execution_count": null,
   "outputs": [],
   "id": "nasty-amount"
  },
  {
   "cell_type": "code",
   "source": [
    "# 4. Create a line plot of temperatures in Toronto and Rome\n",
    "toronto = temperatures[temperatures.city == \"Toronto\"]\n",
    "rome = temperatures[temperatures.city == \"Rome\"]\n",
    "toronto.groupby(\"date\")[\"avg_temp_c\"].mean().plot(kind=\"line\", color=\"blue\")\n",
    "rome.groupby(\"date\")[\"avg_temp_c\"].mean().plot(kind=\"line\", color=\"red\")\n",
    "plt.title(\"Toronto and Rome Average Temperature (C)\")\n",
    "plt.xlabel(\"Date\")\n",
    "plt.ylabel(\"Temperature\")\n",
    "plt.legend(labels=[\"Toronto\", \"Rome\"])\n",
    "plt.show()"
   ],
   "metadata": {
    "pycharm": {
     "name": "#%%\n"
    }
   },
   "execution_count": null,
   "outputs": [],
   "id": "healthy-region"
  }
 ]
}